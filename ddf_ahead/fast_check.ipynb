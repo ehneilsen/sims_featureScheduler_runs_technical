{
 "cells": [
  {
   "cell_type": "code",
   "execution_count": 1,
   "metadata": {},
   "outputs": [],
   "source": [
    "import numpy as np\n",
    "import matplotlib.pylab as plt\n",
    "%matplotlib inline\n",
    "from generate_ddf_sched import generate_ddf\n",
    "from lsst.sims.cloudModel import CloudData\n",
    "from astropy.time import Time\n"
   ]
  },
  {
   "cell_type": "code",
   "execution_count": 2,
   "metadata": {},
   "outputs": [
    {
     "name": "stderr",
     "output_type": "stream",
     "text": [
      "WARNING: ErfaWarning: ERFA function \"d2dtf\" yielded 1 of \"dubious year (Note 5)\" [astropy._erfa.core]\n"
     ]
    }
   ],
   "source": [
    "# Load up the cloud model and set the cloud limit\n",
    "cloud_limit = 0.3\n",
    "mjd_start=59853.5\n",
    "mjd_start_time = Time(mjd_start, format='mjd')    \n",
    "cloud_data = CloudData(mjd_start_time, offset_year=0)"
   ]
  },
  {
   "cell_type": "code",
   "execution_count": 3,
   "metadata": {},
   "outputs": [
    {
     "name": "stderr",
     "output_type": "stream",
     "text": [
      "WARNING: ErfaWarning: ERFA function \"utctai\" yielded 144639 of \"dubious year (Note 3)\" [astropy._erfa.core]\n",
      "WARNING: Tried to get polar motions for times after IERS data is valid. Defaulting to polar motion from the 50-yr mean for those. This may affect precision at the 10s of arcsec level [astropy.coordinates.builtin_frames.utils]\n",
      "WARNING: ErfaWarning: ERFA function \"utcut1\" yielded 144639 of \"dubious year (Note 3)\" [astropy._erfa.core]\n",
      "WARNING: ErfaWarning: ERFA function \"utctai\" yielded 144639 of \"dubious year (Note 3)\" [astropy._erfa.core]\n",
      "WARNING: ErfaWarning: ERFA function \"d2dtf\" yielded 1 of \"dubious year (Note 5)\" [astropy._erfa.core]\n",
      "WARNING: ErfaWarning: ERFA function \"apio13\" yielded 144639 of \"dubious year (Note 2)\" [astropy._erfa.core]\n",
      "/Users/yoachim/git_repos/sims_seeingModel/python/lsst/sims/seeingModel/seeingModel.py:126: RuntimeWarning: invalid value encountered in power\n",
      "  airmass_correction = np.power(airmass, 0.6)\n",
      "/Users/yoachim/git_repos/sims_featureScheduler_runs_technical/ddf_ahead/generate_ddf_sched.py:113: RuntimeWarning: invalid value encountered in greater\n",
      "  (ddf_m5 > g_m5_limit))\n"
     ]
    }
   ],
   "source": [
    "# generate a list of times we want to observe some sequence\n",
    "mjd_observe, ra ,dec, observe_sequence, m5 = generate_ddf('DD:COSMOS', nyears=5.5)"
   ]
  },
  {
   "cell_type": "code",
   "execution_count": 4,
   "metadata": {},
   "outputs": [
    {
     "name": "stderr",
     "output_type": "stream",
     "text": [
      "WARNING: ErfaWarning: ERFA function \"utctai\" yielded 1 of \"dubious year (Note 3)\" [astropy._erfa.core]\n"
     ]
    }
   ],
   "source": [
    "# I only grabbed the 5-sigma depth in g, so let's just make the list of observations in g\n",
    "observationStartMJD = []\n",
    "m5s = []\n",
    "mjds = Time(mjd_observe, format='mjd')\n",
    "\n",
    "clouded_out = 0\n",
    "for i,mjd in enumerate(mjds):\n",
    "    if cloud_data(mjd[0]) < cloud_limit:\n",
    "        for obs in observe_sequence:\n",
    "            if obs['filter'] == 'g':\n",
    "                observationStartMJD.append(mjd[0].value)\n",
    "                m5s.append(m5[i])\n",
    "    else:\n",
    "        clouded_out += 1"
   ]
  },
  {
   "cell_type": "code",
   "execution_count": 5,
   "metadata": {},
   "outputs": [
    {
     "data": {
      "text/plain": [
       "11"
      ]
     },
     "execution_count": 5,
     "metadata": {},
     "output_type": "execute_result"
    }
   ],
   "source": [
    "clouded_out"
   ]
  },
  {
   "cell_type": "code",
   "execution_count": 6,
   "metadata": {},
   "outputs": [],
   "source": [
    "# Wrap into MAF numpy array with the expected dtype names\n",
    "names = ['observationStartMJD', 'fieldRA', 'fieldDec', 'filter',\n",
    "         'visitExposureTime', 'fiveSigmaDepth',\n",
    "        'seeingFwhmGeom']\n",
    "types = [float, float, float, '|U1', float, float, float]\n",
    "dataSlice = np.empty(len(observationStartMJD), dtype=list(zip(names,types)))\n",
    "\n",
    "dataSlice['observationStartMJD'] = observationStartMJD\n",
    "dataSlice['fieldRA'] = np.degrees(ra.value)\n",
    "dataSlice['fieldDec'] = np.degrees(dec.value)\n",
    "dataSlice['filter'] = 'g'\n",
    "dataSlice['visitExposureTime'] = 30.\n",
    "dataSlice['fiveSigmaDepth'] = m5s\n",
    "dataSlice['seeingFwhmGeom'] = 1.2  # Just plug in a number, could have saved from before maybe. Or if I'd saved the airmass I could look it up"
   ]
  },
  {
   "cell_type": "code",
   "execution_count": 7,
   "metadata": {},
   "outputs": [],
   "source": [
    "from lsst.sims.maf.metrics import Coaddm5Metric, ProperMotionMetric, ExgalM5\n",
    "from lsst.sims.maf.slicers import UserPointsSlicer\n",
    "import lsst.sims.maf.metricBundles as metricBundles\n",
    "import lsst.sims.maf.db as db\n",
    "\n",
    "outDir='temp'\n",
    "resultsDb = db.ResultsDb(outDir=outDir)"
   ]
  },
  {
   "cell_type": "code",
   "execution_count": 13,
   "metadata": {},
   "outputs": [
    {
     "name": "stdout",
     "output_type": "stream",
     "text": [
      "coadded depth 28.20813108592443\n",
      "proper motion uncertainty 0.18281910906209978\n"
     ]
    }
   ],
   "source": [
    "# For things where we don't need slicePoint information, we can just run the metric itself\n",
    "metric = Coaddm5Metric()\n",
    "print('coadded depth', metric.run(dataSlice))\n",
    "metric = ProperMotionMetric()\n",
    "print('proper motion uncertainty', metric.run(dataSlice))"
   ]
  },
  {
   "cell_type": "code",
   "execution_count": 9,
   "metadata": {},
   "outputs": [],
   "source": [
    "# OK, if we wanted to use all of the MAF framework\n",
    "bundleList = []\n",
    "slicer = UserPointsSlicer(ra=np.degrees(ra.value), dec=np.degrees(dec.value))\n",
    "metric = ExgalM5(lsstFilter='g')\n",
    "# Note, the sql constraint doesn't do anything since we're going to skip the DB querry, so up to the user to make sure \n",
    "# the data passed in matches the sql constraint\n",
    "sql = 'filter = \"g\"'  \n",
    "# Here's how we could impose the filter selection\n",
    "ds_indx = np.where(dataSlice['filter'] == 'g')[0]\n",
    "bundleList.append(metricBundles.MetricBundle(metric,slicer,sql))\n",
    "\n",
    "metric = Coaddm5Metric()\n",
    "bundleList.append(metricBundles.MetricBundle(metric,slicer,sql))\n"
   ]
  },
  {
   "cell_type": "code",
   "execution_count": 10,
   "metadata": {},
   "outputs": [
    {
     "name": "stderr",
     "output_type": "stream",
     "text": [
      "/Users/yoachim/git_repos/sims_maf/python/lsst/sims/maf/metricBundles/metricBundleGroup.py:110: UserWarning: Warning: dbObj should be an instantiated Database (or child) object.\n",
      "  warnings.warn('Warning: dbObj should be an instantiated Database (or child) object.')\n"
     ]
    }
   ],
   "source": [
    "bg = metricBundles.MetricBundleGroup(bundleList, None, outDir=outDir, resultsDb=resultsDb)"
   ]
  },
  {
   "cell_type": "code",
   "execution_count": 11,
   "metadata": {},
   "outputs": [
    {
     "name": "stdout",
     "output_type": "stream",
     "text": [
      "Running:  ['opsim_ExgalM5_fiveSigmaDepth_g_USER']\n",
      "Completed metric generation.\n",
      "Running:  ['opsim_CoaddM5_g_USER']\n",
      "Completed metric generation.\n",
      "Running reduce methods.\n",
      "Running summary statistics.\n",
      "Completed.\n"
     ]
    }
   ],
   "source": [
    "# Ugh, need to update MAF a little to skip this\n",
    "bg.setCurrent(bg.constraints[0])\n",
    "bg.runCurrent(bg.constraints[0], simData=dataSlice[ds_indx])\n",
    "# Should update so this can run as: bg.runAll(simData=dataSlice)"
   ]
  },
  {
   "cell_type": "code",
   "execution_count": 12,
   "metadata": {},
   "outputs": [
    {
     "data": {
      "text/plain": [
       "(masked_array(data=[28.131404951335057],\n",
       "              mask=[False],\n",
       "        fill_value=-666.0), masked_array(data=[28.20813108592443],\n",
       "              mask=[False],\n",
       "        fill_value=-666.0))"
      ]
     },
     "execution_count": 12,
     "metadata": {},
     "output_type": "execute_result"
    }
   ],
   "source": [
    "bundleList[0].metricValues, bundleList[1].metricValues"
   ]
  },
  {
   "cell_type": "code",
   "execution_count": null,
   "metadata": {},
   "outputs": [],
   "source": []
  },
  {
   "cell_type": "code",
   "execution_count": null,
   "metadata": {},
   "outputs": [],
   "source": []
  }
 ],
 "metadata": {
  "kernelspec": {
   "display_name": "Python 3",
   "language": "python",
   "name": "python3"
  },
  "language_info": {
   "codemirror_mode": {
    "name": "ipython",
    "version": 3
   },
   "file_extension": ".py",
   "mimetype": "text/x-python",
   "name": "python",
   "nbconvert_exporter": "python",
   "pygments_lexer": "ipython3",
   "version": "3.7.2"
  }
 },
 "nbformat": 4,
 "nbformat_minor": 2
}
